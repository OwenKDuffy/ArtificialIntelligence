{
 "cells": [
  {
   "cell_type": "markdown",
   "metadata": {
    "slideshow": {
     "slide_type": "slide"
    }
   },
   "source": [
    "---"
   ]
  },
  {
   "cell_type": "markdown",
   "metadata": {
    "slideshow": {
     "slide_type": "-"
    }
   },
   "source": [
    "# Artificial Intelligence - COMPSCI4004 2018-2019"
   ]
  },
  {
   "cell_type": "markdown",
   "metadata": {
    "slideshow": {
     "slide_type": "-"
    }
   },
   "source": [
    "## Lab 2: Introduction to the OpenAI Gym"
   ]
  },
  {
   "cell_type": "markdown",
   "metadata": {
    "slideshow": {
     "slide_type": "slide"
    }
   },
   "source": [
    "------"
   ]
  },
  {
   "cell_type": "markdown",
   "metadata": {},
   "source": [
    "### Objectives:\n",
    "- Introduce you to the OpenAI gym environment and get it installed\n",
    "- Obtain an understanding of the OpenAi gym by inspecting the documentation and running an open ai gym tutorial\n",
    "- Analyse a specific problem (of your choice) using the PEAS framework to identify the performance measure, environment (including a task description), sensors and actuators"
   ]
  },
  {
   "cell_type": "markdown",
   "metadata": {},
   "source": [
    "----"
   ]
  },
  {
   "cell_type": "markdown",
   "metadata": {},
   "source": [
    "### Q2.1 Pre-requisites\n",
    "Before installing the open ai gym environment make sure you have a Python 3.5+ environment installed on your computer.\n",
    "\n",
    "- Linux or Windows: We recommend installing [Anaconda](https://www.anaconda.com/download/) (Python 3.5+) which includes numpy and other useful libraries that you would otherwise have to install yourself.\n",
    "- MacOS: We generally recommend using the already installed Python and simply updating the packages as needed\n",
    "\n",
    "### Q2.2: Installing Open AI Gym...\n",
    "- An installation guide can be found at https://gym.openai.com/docs/ (avoid building from source if possible).\n",
    "\n",
    "### Q2.3: ... complete the Open Gym Tutorial \n",
    "- Step through the rest of the tutorial and execute the code examples. The tutorial is based on the CartPole example and we recommend reading the problem [description](https://gym.openai.com/envs/CartPole-v1/) and inspecting the environment definition (Python code; available via [github](https://github.com/openai/gym/blob/master/gym/envs/classic_control/cartpole.py))\n",
    "\n",
    "Note: When programming against the open AI gym API, we recommend using standard Python (i.e., command line or an IDE, e.g. [PyCharm](https://www.jetbrains.com/pycharm/) or [vscode](https://code.visualstudio.com/)), however, it is also possible to implement the code in a Jupyter notebook if you prefer.\n"
   ]
  },
  {
   "cell_type": "markdown",
   "metadata": {},
   "source": [
    "### Q2.4: Analysing an Atari environment using PEAS"
   ]
  },
  {
   "cell_type": "markdown",
   "metadata": {},
   "source": [
    "- Inspect and familiarise yourself with the available environments in OpenAI gym https://gym.openai.com/envs/ \n",
    "- Select one of the Atari environments (e.g. [MsPacman](https://gym.openai.com/envs/MsPacman-v0/)) and perform a PEAS analysis (see the AIMA book chapter 2, or the lecture slides from week 1) to identify the\n",
    "    - Performance measure\n",
    "    - Environment (including a full description of the environment)\n",
    "    - Actuators\n",
    "    - Sensors, i.e., what sensory input/observations are available to the agent (in the current Open AI Gym environment)\n",
    "       \n",
    "Hint: It might be useful to inspect the environment definition in the OpenAI gym repository and rerun the basic OpenAI Gym tutorial with the chosen Atari mission."
   ]
  },
  {
   "cell_type": "markdown",
   "metadata": {},
   "source": [
    "---\n",
    "### Q2.5 [advanced & open-ended]: Save, inspect and analyse image/video output from an Atari environment"
   ]
  },
  {
   "cell_type": "markdown",
   "metadata": {},
   "source": [
    "The OpenAI Gym allows us to access images representing the state of the environment.\n",
    "\n",
    "- Consider the [MsPacman](https://gym.openai.com/envs/MsPacman-v0/) environment and inspect the problem definition on e.g. GitHub.\n",
    "- Extend the basic code from the OpenAI gym tutorial so you can read out and save the images.\n",
    "- Apply an edge-detection filter (or filter of your choice) to the saved image (see code and examples in the lecture 2 slides)"
   ]
  },
  {
   "cell_type": "markdown",
   "metadata": {},
   "source": [
    "---"
   ]
  }
 ],
 "metadata": {
  "anaconda-cloud": {},
  "kernelspec": {
   "display_name": "Python 3",
   "language": "python",
   "name": "python3"
  },
  "language_info": {
   "codemirror_mode": {
    "name": "ipython",
    "version": 3
   },
   "file_extension": ".py",
   "mimetype": "text/x-python",
   "name": "python",
   "nbconvert_exporter": "python",
   "pygments_lexer": "ipython3",
   "version": "3.6.5"
  }
 },
 "nbformat": 4,
 "nbformat_minor": 1
}
